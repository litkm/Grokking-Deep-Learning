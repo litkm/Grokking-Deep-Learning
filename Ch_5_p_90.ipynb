{
  "nbformat": 4,
  "nbformat_minor": 0,
  "metadata": {
    "colab": {
      "name": "Ch_5_p_90.ipynb",
      "provenance": [],
      "authorship_tag": "ABX9TyNfVpsnwg99kIqLHdbMqGU3",
      "include_colab_link": true
    },
    "kernelspec": {
      "name": "python3",
      "display_name": "Python 3"
    }
  },
  "cells": [
    {
      "cell_type": "markdown",
      "metadata": {
        "id": "view-in-github",
        "colab_type": "text"
      },
      "source": [
        "<a href=\"https://colab.research.google.com/github/litkm/Grokking-Deep-Learning/blob/master/Ch_5_p_90.ipynb\" target=\"_parent\"><img src=\"https://colab.research.google.com/assets/colab-badge.svg\" alt=\"Open In Colab\"/></a>"
      ]
    },
    {
      "cell_type": "code",
      "metadata": {
        "id": "ir8kHllK4iKb",
        "colab_type": "code",
        "colab": {}
      },
      "source": [
        "# Gradient Descent Learning with Multiple Outputs\n",
        "#\n",
        "# Take one input and make multiple predictions.\n",
        "#\n",
        "# Instead of predicting just \n",
        "# whether the team won or lost, \n",
        "# now we're also predicting whether\n",
        "# they are happy/sad AND the\n",
        "# percentage of the team that is\n",
        "# hurt. We are making this\n",
        "# prediction using only\n",
        "# the current win/loss record.\n",
        "# In sum, three predictions: (1) win/lose; (2) happy/sad; (3) % team hurt\n",
        "\n",
        "# Weights for each prediction\n",
        "weights = [0.3, 0.2, 0.9] \n",
        "\n",
        "def neural_network(input, weights):\n",
        "    pred = ele_mul(input,weights)\n",
        "    return pred\n",
        "\n",
        "wlrec = [0.65, 1.0, 1.0, 0.9]\n",
        "\n",
        "hurt  = [0.1, 0.0, 0.0, 0.1]\n",
        "win   = [  1,   1,   0,   1]\n",
        "sad   = [0.1, 0.0, 0.1, 0.2]\n",
        "\n",
        "input = wlrec[0]\n",
        "true = [hurt[0], win[0], sad[0]]\n",
        "\n",
        "pred = neural_network(input,weights)\n",
        "\n",
        "error = [0, 0, 0] \n",
        "delta = [0, 0, 0]\n"
      ],
      "execution_count": null,
      "outputs": []
    }
  ]
}