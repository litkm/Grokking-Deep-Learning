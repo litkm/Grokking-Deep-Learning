{
  "nbformat": 4,
  "nbformat_minor": 0,
  "metadata": {
    "colab": {
      "name": "Ch_5_p_90.ipynb",
      "provenance": [],
      "authorship_tag": "ABX9TyNu3kvx/IBbCzTxVQTcYi3s",
      "include_colab_link": true
    },
    "kernelspec": {
      "name": "python3",
      "display_name": "Python 3"
    }
  },
  "cells": [
    {
      "cell_type": "markdown",
      "metadata": {
        "id": "view-in-github",
        "colab_type": "text"
      },
      "source": [
        "<a href=\"https://colab.research.google.com/github/litkm/Grokking-Deep-Learning/blob/master/Ch_5_p_90.ipynb\" target=\"_parent\"><img src=\"https://colab.research.google.com/assets/colab-badge.svg\" alt=\"Open In Colab\"/></a>"
      ]
    },
    {
      "cell_type": "code",
      "metadata": {
        "id": "ir8kHllK4iKb",
        "colab_type": "code",
        "colab": {
          "base_uri": "https://localhost:8080/",
          "height": 51
        },
        "outputId": "90a2fc21-d4fc-4fe9-cbb4-14cc26945e04"
      },
      "source": [
        "# Gradient Descent Learning with Multiple Outputs\n",
        "#\n",
        "# Take one input and make multiple predictions.\n",
        "#\n",
        "# Instead of predicting just \n",
        "# whether the team won or lost, \n",
        "# now we're also predicting whether\n",
        "# they are happy/sad AND the\n",
        "# percentage of the team that is\n",
        "# hurt. We are making this\n",
        "# prediction using only\n",
        "# the current win/loss record.\n",
        "# In sum, three predictions: (1) win/lose; (2) happy/sad; (3) % team hurt\n",
        "\n",
        "# Weights for each prediction\n",
        "weights = [0.3, 0.2, 0.9] \n",
        "\n",
        "# This function is missing from the code on iamtrask's GitHub for this piece\n",
        "def ele_mul(scalar, vector):\n",
        "  out = [0,0,0]\n",
        "  for i in range(len(out)):\n",
        "    out[i] = vector[i] * scalar\n",
        "  return out\n",
        "\n",
        "# Neural network\n",
        "def neural_network(input, weights):\n",
        "    pred = ele_mul(input,weights)\n",
        "    return pred\n",
        "\n",
        "# Current win/loss record\n",
        "wlrec = [0.65, 1.0, 1.0, 0.9]\n",
        "\n",
        "# Outcome data, what we want to predict \n",
        "hurt  = [0.1, 0.0, 0.0, 0.1]\n",
        "win   = [  1,   1,   0,   1]\n",
        "sad   = [0.1, 0.0, 0.1, 0.2]\n",
        "\n",
        "# Input for neural network\n",
        "input = wlrec[0]\n",
        "\n",
        "# Prediction goal; use to calculate error and delta (revise wieghts)\n",
        "true = [hurt[0], win[0], sad[0]]\n",
        "\n",
        "pred = neural_network(input,weights)\n",
        "\n",
        "# Vectors for each output  \n",
        "error = [0, 0, 0] \n",
        "delta = [0, 0, 0]\n",
        "\n",
        "# Calculate error and delta for each respective vector\n",
        "for i in range(len(true)):\n",
        "    error[i] = (pred[i] - true[i]) ** 2\n",
        "    delta[i] = pred[i] - true[i]\n",
        "\n",
        "# Function to calculate each weight delta    \n",
        "def scalar_ele_mul(number,vector):\n",
        "    output = [0,0,0]\n",
        "\n",
        "    assert(len(output) == len(vector))\n",
        "\n",
        "    for i in range(len(vector)):\n",
        "        output[i] = number * vector[i]\n",
        "\n",
        "    return output\n",
        "\n",
        "# Calling the function\n",
        "weight_deltas = scalar_ele_mul(input,delta)\n",
        "\n",
        "alpha = 0.1\n",
        "\n",
        "# Updating each of the weights\n",
        "for i in range(len(weights)):\n",
        "    weights[i] -= (weight_deltas[i] * alpha)\n",
        "    \n",
        "print(\"Weights:\" + str(weights))\n",
        "print(\"Weight Deltas:\" + str(weight_deltas))\n"
      ],
      "execution_count": 2,
      "outputs": [
        {
          "output_type": "stream",
          "text": [
            "Weights:[0.293825, 0.25655, 0.868475]\n",
            "Weight Deltas:[0.061750000000000006, -0.5655, 0.3152500000000001]\n"
          ],
          "name": "stdout"
        }
      ]
    }
  ]
}