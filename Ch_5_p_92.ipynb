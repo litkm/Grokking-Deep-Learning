{
  "nbformat": 4,
  "nbformat_minor": 0,
  "metadata": {
    "colab": {
      "name": "Ch_5_p_92.ipynb",
      "provenance": [],
      "authorship_tag": "ABX9TyMdQ1mZZYs3iSbaw9EZCt91",
      "include_colab_link": true
    },
    "kernelspec": {
      "name": "python3",
      "display_name": "Python 3"
    }
  },
  "cells": [
    {
      "cell_type": "markdown",
      "metadata": {
        "id": "view-in-github",
        "colab_type": "text"
      },
      "source": [
        "<a href=\"https://colab.research.google.com/github/litkm/Grokking-Deep-Learning/blob/master/Ch_5_p_92.ipynb\" target=\"_parent\"><img src=\"https://colab.research.google.com/assets/colab-badge.svg\" alt=\"Open In Colab\"/></a>"
      ]
    },
    {
      "cell_type": "code",
      "metadata": {
        "id": "lkjjm673X5Tz"
      },
      "source": [
        "#Gradient descent with multiple inputs and outputs\n",
        "\n",
        "#toes, %wins, #fans\n",
        "weights = [[0.1, 0.1, -0.3], # hurt?\n",
        "           [0.1, 0.2, 0.0],  # win?\n",
        "           [0.0, 1.3, 0.1]]  # sad?\n",
        "\n",
        "def w_sum(a,b):\n",
        "    assert(len(a) == len(b))\n",
        "    output = 0\n",
        "    for i in range(len(a)):\n",
        "        output += (a[i] * b[i])\n",
        "    return output\n",
        "\n",
        "def vect_mat_mul(vector, matrix):\n",
        "  assert(len(vector) == len(matrix))\n",
        "  output = [0, 0, 0]\n",
        "  for i in range(len(vector)):\n",
        "    output[i] = w_sum(vector, matrix[i])\n",
        "  return output\n",
        "\n"
      ],
      "execution_count": null,
      "outputs": []
    }
  ]
}