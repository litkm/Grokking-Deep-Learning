{
  "nbformat": 4,
  "nbformat_minor": 0,
  "metadata": {
    "colab": {
      "name": "Ch_5_p_92.ipynb",
      "provenance": [],
      "authorship_tag": "ABX9TyOlsFzi2tN4BMYiGsJ8G6lX",
      "include_colab_link": true
    },
    "kernelspec": {
      "name": "python3",
      "display_name": "Python 3"
    }
  },
  "cells": [
    {
      "cell_type": "markdown",
      "metadata": {
        "id": "view-in-github",
        "colab_type": "text"
      },
      "source": [
        "<a href=\"https://colab.research.google.com/github/litkm/Grokking-Deep-Learning/blob/master/Ch_5_p_92.ipynb\" target=\"_parent\"><img src=\"https://colab.research.google.com/assets/colab-badge.svg\" alt=\"Open In Colab\"/></a>"
      ]
    },
    {
      "cell_type": "code",
      "metadata": {
        "id": "lkjjm673X5Tz"
      },
      "source": [
        "#Gradient descent with multiple inputs and outputs\n",
        "\n",
        "#toes, %wins, #fans\n",
        "weights = [[0.1, 0.1, -0.3], # hurt?\n",
        "           [0.1, 0.2, 0.0],  # win?\n",
        "           [0.0, 1.3, 0.1]]  # sad?\n",
        "\n",
        "def w_sum(a,b):\n",
        "    assert(len(a) == len(b))\n",
        "    output = 0\n",
        "    for i in range(len(a)):\n",
        "        output += (a[i] * b[i])\n",
        "    return output\n",
        "\n",
        "def vect_mat_mul(vector, matrix):\n",
        "  assert(len(vector) == len(matrix))\n",
        "  output = [0, 0, 0]\n",
        "  for i in range(len(vector)):\n",
        "    output[i] = w_sum(vector, matrix[i])\n",
        "  return output\n",
        "\n",
        "def neural_network(input, weights):\n",
        "  pred = vect_mat_mul(input, weights)\n",
        "  return pred\n",
        "\n",
        "toes = [8.5, 9.5, 9.9, 9.0]\n",
        "wlrec = [0.65, 0.8, 0.8, 0.9]\n",
        "nfans = [1.2, 1.3, 0.5, 1.0]\n",
        "\n",
        "hurt = [0.1, 0.0, 0.0, 0.1]\n",
        "win  = [1, 1, 0, 1]\n",
        "sad  = [0.1, 0.0, 0.1, 0.2]\n",
        "\n",
        "alpha = 0.1\n",
        "\n",
        "input = [toes[0], wlrec[0], nfans[0]]\n",
        "true = [hurt[0], win[0], sad[0]]\n",
        "\n",
        "pred = neural_network(input, weights)\n",
        "\n",
        "error = [0, 0, 0]\n",
        "delta = [0, 0, 0]\n",
        "\n",
        "for i in range(len(true)):\n",
        "  error[i] = (pred[i] - true[i]) ** 2\n",
        "  delta = pred[i] - true[i]\n",
        "\n",
        "  \n"
      ],
      "execution_count": 1,
      "outputs": []
    }
  ]
}