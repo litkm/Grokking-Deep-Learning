{
  "nbformat": 4,
  "nbformat_minor": 0,
  "metadata": {
    "colab": {
      "name": "Ch_6_p_126.ipynb",
      "provenance": [],
      "authorship_tag": "ABX9TyNZY/9NA+2ilN20SJ4h6yrQ",
      "include_colab_link": true
    },
    "kernelspec": {
      "name": "python3",
      "display_name": "Python 3"
    }
  },
  "cells": [
    {
      "cell_type": "markdown",
      "metadata": {
        "id": "view-in-github",
        "colab_type": "text"
      },
      "source": [
        "<a href=\"https://colab.research.google.com/github/litkm/Grokking-Deep-Learning/blob/master/Ch_6_p_126.ipynb\" target=\"_parent\"><img src=\"https://colab.research.google.com/assets/colab-badge.svg\" alt=\"Open In Colab\"/></a>"
      ]
    },
    {
      "cell_type": "code",
      "metadata": {
        "id": "ygtyKNcAjNPH",
        "outputId": "af620d6d-b621-42a4-cf2a-d3440ea1d8da",
        "colab": {
          "base_uri": "https://localhost:8080/",
          "height": 119
        }
      },
      "source": [
        "#First deep neural network.\n",
        "#First backpropogation\n",
        "\n",
        "import numpy as np\n",
        "\n",
        "np.random.seed(1)\n",
        "\n",
        "def relu(x):\n",
        "  return (x > 0) * x\n",
        "\n",
        "def relu2deriv(output):\n",
        "  return output > 0\n",
        "\n",
        "alpha = 0.2\n",
        "hidden_size = 4\n",
        "\n",
        "streetlights = np.array([[1, 0, 1],\n",
        "                         [0, 1, 1],\n",
        "                         [0, 0, 1],\n",
        "                         [1, 1, 1]])\n",
        "\n",
        "walk_vs_stop = np.array([[1, 1, 0, 0]]).T\n",
        "\n",
        "weights_0_1 = 2*np.random.random((3, hidden_size)) - 1 #weights for layer 0 -> 1\n",
        "weights_1_2 = 2*np.random.random((hidden_size, 1)) - 1 #weights for layer 1 -> 2\n",
        "\n",
        "for iteration in range(60): #loop to process dataset repeatedly\n",
        "  layer_2_error = 0\n",
        "  for i in range(len(streetlights)): #loop through entire dataset\n",
        "    layer_0 = streetlights[i:i+1] #input\n",
        "    layer_1 = relu(np.dot(layer_0, weights_0_1)) #dot product layer 1\n",
        "    layer_2 = np.dot(layer_1, weights_1_2) #dot product layer 2\n",
        "\n",
        "    layer_2_error += np.sum((layer_2 - walk_vs_stop[i:i+1]) ** 2) #layer 2 error\n",
        "    \n",
        "    layer_2_delta = (walk_vs_stop[i:i+1] - layer_2) #layer 2 delta\n",
        "    layer_1_delta = layer_2_delta.dot(weights_1_2.T) * relu2deriv(layer_1) #layer 1 delta\n",
        "\n",
        "    weights_1_2 += alpha * layer_1.T.dot(layer_2_delta) #update layer 1/2 weights\n",
        "    weights_0_1 += alpha * layer_0.T.dot(layer_1_delta) #update layer 0/1 weights\n",
        "\n",
        "  if(iteration % 10 == 9): #print error for iterations 9, 19, 29, 39, 49, 59\n",
        "    print(\"Error: \" + str(layer_2_error))\n"
      ],
      "execution_count": 3,
      "outputs": [
        {
          "output_type": "stream",
          "text": [
            "Error: 0.6342311598444467\n",
            "Error: 0.35838407676317513\n",
            "Error: 0.0830183113303298\n",
            "Error: 0.006467054957103705\n",
            "Error: 0.0003292669000750734\n",
            "Error: 1.5055622665134859e-05\n"
          ],
          "name": "stdout"
        }
      ]
    }
  ]
}