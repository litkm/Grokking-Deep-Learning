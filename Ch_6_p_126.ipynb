{
  "nbformat": 4,
  "nbformat_minor": 0,
  "metadata": {
    "colab": {
      "name": "Ch_6_p_126.ipynb",
      "provenance": [],
      "authorship_tag": "ABX9TyOFQ7Y/u1ZJwpJwMs+apDz2",
      "include_colab_link": true
    },
    "kernelspec": {
      "name": "python3",
      "display_name": "Python 3"
    }
  },
  "cells": [
    {
      "cell_type": "markdown",
      "metadata": {
        "id": "view-in-github",
        "colab_type": "text"
      },
      "source": [
        "<a href=\"https://colab.research.google.com/github/litkm/Grokking-Deep-Learning/blob/master/Ch_6_p_126.ipynb\" target=\"_parent\"><img src=\"https://colab.research.google.com/assets/colab-badge.svg\" alt=\"Open In Colab\"/></a>"
      ]
    },
    {
      "cell_type": "code",
      "metadata": {
        "id": "ygtyKNcAjNPH",
        "outputId": "39a45287-7067-4b51-fe3c-820c546e5e55",
        "colab": {
          "base_uri": "https://localhost:8080/",
          "height": 119
        }
      },
      "source": [
        "#First deep neural network.\n",
        "#First backpropogation\n",
        "\n",
        "import numpy as np\n",
        "\n",
        "np.random.seed(1)\n",
        "\n",
        "def relu(x):\n",
        "  return (x > 0) * x\n",
        "\n",
        "def relu2deriv(output):\n",
        "  return output > 0\n",
        "\n",
        "alpha = 0.2\n",
        "hidden_size = 4\n",
        "\n",
        "streetlights = np.array([[1, 0, 1],\n",
        "                         [0, 1, 1],\n",
        "                         [0, 0, 1],\n",
        "                         [1, 1, 1]])\n",
        "\n",
        "walk_vs_stop = np.array([[1, 1, 0, 0]]).T\n",
        "\n",
        "weights_0_1 = 2*np.random.random((3, hidden_size)) - 1\n",
        "weights_1_2 = 2*np.random.random((hidden_size, 1)) - 1\n",
        "\n",
        "for iteration in range(60):\n",
        "  layer_2_error = 0\n",
        "  for i in range(len(streetlights)):\n",
        "    layer_0 = streetlights[i:i+1]\n",
        "    layer_1 = relu(np.dot(layer_0, weights_0_1))\n",
        "    layer_2 = np.dot(layer_1, weights_1_2)\n",
        "\n",
        "    layer_2_error += np.sum((layer_2 - walk_vs_stop[i:i+1]) ** 2)\n",
        "    \n",
        "    layer_2_delta = (walk_vs_stop[i:i+1] - layer_2)\n",
        "    layer_1_delta = layer_2_delta.dot(weights_1_2.T) * relu2deriv(layer_1)\n",
        "\n",
        "    weights_1_2 += alpha * layer_1.T.dot(layer_2_delta)\n",
        "    weights_0_1 += alpha * layer_0.T.dot(layer_1_delta)\n",
        "\n",
        "  if(iteration % 10 == 9):\n",
        "    print(\"Error: \" + str(layer_2_error))\n"
      ],
      "execution_count": 13,
      "outputs": [
        {
          "output_type": "stream",
          "text": [
            "Error: 0.6342311598444467\n",
            "Error: 0.35838407676317513\n",
            "Error: 0.0830183113303298\n",
            "Error: 0.006467054957103705\n",
            "Error: 0.0003292669000750734\n",
            "Error: 1.5055622665134859e-05\n"
          ],
          "name": "stdout"
        }
      ]
    }
  ]
}