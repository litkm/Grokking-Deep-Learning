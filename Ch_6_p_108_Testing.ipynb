{
  "nbformat": 4,
  "nbformat_minor": 0,
  "metadata": {
    "colab": {
      "name": "Ch_6_p_108 - Testing.ipynb",
      "provenance": [],
      "authorship_tag": "ABX9TyPVvBjv27nP2BxrTL0SssEb",
      "include_colab_link": true
    },
    "kernelspec": {
      "name": "python3",
      "display_name": "Python 3"
    }
  },
  "cells": [
    {
      "cell_type": "markdown",
      "metadata": {
        "id": "view-in-github",
        "colab_type": "text"
      },
      "source": [
        "<a href=\"https://colab.research.google.com/github/litkm/Grokking-Deep-Learning/blob/master/Ch_6_p_108_Testing.ipynb\" target=\"_parent\"><img src=\"https://colab.research.google.com/assets/colab-badge.svg\" alt=\"Open In Colab\"/></a>"
      ]
    },
    {
      "cell_type": "code",
      "metadata": {
        "id": "zBFlh06XL9y1"
      },
      "source": [
        ""
      ],
      "execution_count": null,
      "outputs": []
    },
    {
      "cell_type": "code",
      "metadata": {
        "id": "_f8YjSxadbrS",
        "outputId": "0fb81ae4-609e-4b41-ac02-2084b1cb3afe",
        "colab": {
          "base_uri": "https://localhost:8080/"
        }
      },
      "source": [
        "# Streetlight problem\n",
        "# Neural network that trains on entire dataset rather than a portion\n",
        "\n",
        "import numpy as np\n",
        "\n",
        "weights = np.array([0.5,0.48,-0.7])\n",
        "alpha = 0.1\n",
        "\n",
        "streetlights = np.array([[1, 0, 1],\n",
        "                         [0, 1, 1],\n",
        "                         [0, 0, 1],\n",
        "                         [1, 1, 1],\n",
        "                         [0, 1, 1],\n",
        "                         [1, 0, 1]])\n",
        "\n",
        "walk_vs_stop = np.array([0, 1, 0, 1, 1, 0])\n",
        "\n",
        "#print(streetlights)\n",
        "#print(streetlights[0])\n",
        "print(weights)\n",
        "\n",
        "#print(streetlights[0].dot(weights))\n",
        "\n",
        "#weights = weights - (alpha * (input * delta))\n",
        "weights = weights - alpha\n",
        "print(weights)\n"
      ],
      "execution_count": 5,
      "outputs": [
        {
          "output_type": "stream",
          "text": [
            "[ 0.5   0.48 -0.7 ]\n",
            "[ 0.4   0.38 -0.8 ]\n"
          ],
          "name": "stdout"
        }
      ]
    }
  ]
}