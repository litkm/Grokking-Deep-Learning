{
  "nbformat": 4,
  "nbformat_minor": 0,
  "metadata": {
    "colab": {
      "name": "Ch_6_p_125.ipynb",
      "provenance": [],
      "authorship_tag": "ABX9TyPQuAccsKbcqdSL0tP6WtuV",
      "include_colab_link": true
    },
    "kernelspec": {
      "name": "python3",
      "display_name": "Python 3"
    }
  },
  "cells": [
    {
      "cell_type": "markdown",
      "metadata": {
        "id": "view-in-github",
        "colab_type": "text"
      },
      "source": [
        "<a href=\"https://colab.research.google.com/github/litkm/Grokking-Deep-Learning/blob/master/Ch_6_p_125.ipynb\" target=\"_parent\"><img src=\"https://colab.research.google.com/assets/colab-badge.svg\" alt=\"Open In Colab\"/></a>"
      ]
    },
    {
      "cell_type": "code",
      "metadata": {
        "id": "ygtyKNcAjNPH",
        "outputId": "ac27d297-3141-48e8-9ef1-b90af4805eac",
        "colab": {
          "base_uri": "https://localhost:8080/",
          "height": 34
        }
      },
      "source": [
        "import numpy as np\n",
        "\n",
        "np.random.seed(1)\n",
        "\n",
        "def relu(x):\n",
        "  return (x > 0) * x\n",
        "\n",
        "alpha = 0.2\n",
        "hidden_size = 4\n",
        "\n",
        "streetlights = np.array([[1, 0, 1],\n",
        "                         [0, 1, 1],\n",
        "                         [0, 0, 1],\n",
        "                         [1, 1, 1]])\n",
        "\n",
        "walk_vs_stop = np.array([[1, 1, 0, 0]]).T\n",
        "\n",
        "weights_0_1 = 2*np.random.random((3, hidden_size)) - 1\n",
        "weights_1_2 = 2*np.random.random((hidden_size, 1)) - 1\n",
        "\n",
        "layer_0 = streetlights[0]\n",
        "layer_1 = relu(np.dot(layer_0, weights_0_1))\n",
        "layer_2 = np.dot(layer_1, weights_1_2)\n",
        "\n",
        "print(layer_2)"
      ],
      "execution_count": 2,
      "outputs": [
        {
          "output_type": "stream",
          "text": [
            "[0.39194327]\n"
          ],
          "name": "stdout"
        }
      ]
    }
  ]
}