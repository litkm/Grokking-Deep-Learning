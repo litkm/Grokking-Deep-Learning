{
  "nbformat": 4,
  "nbformat_minor": 0,
  "metadata": {
    "colab": {
      "name": "CH_9_p_174.ipynb",
      "provenance": [],
      "authorship_tag": "ABX9TyMxDGyOf82OH/Sp8Mbw+qjo",
      "include_colab_link": true
    },
    "kernelspec": {
      "name": "python3",
      "display_name": "Python 3"
    }
  },
  "cells": [
    {
      "cell_type": "markdown",
      "metadata": {
        "id": "view-in-github",
        "colab_type": "text"
      },
      "source": [
        "<a href=\"https://colab.research.google.com/github/litkm/Grokking-Deep-Learning/blob/master/CH_9_p_174.ipynb\" target=\"_parent\"><img src=\"https://colab.research.google.com/assets/colab-badge.svg\" alt=\"Open In Colab\"/></a>"
      ]
    },
    {
      "cell_type": "code",
      "metadata": {
        "id": "l2FgOzqp4g31",
        "outputId": "e6873485-2126-43eb-cfc6-300e8219878d",
        "colab": {
          "base_uri": "https://localhost:8080/",
          "height": 544
        }
      },
      "source": [
        "import numpy as np, sys\n",
        "np.random.seed(1)\n",
        "\n",
        "from keras.datasets import mnist\n",
        "(x_train, y_train), (x_test, y_test) = mnist.load_data()\n",
        "\n",
        "images, labels = (x_train[0:1000].reshape(1000, 28 * 28) \\\n",
        "                  / 255, y_train[0:1000])\n",
        "\n",
        "one_hot_labels = np.zeros((len(labels), 10))\n",
        "for i, l in enumerate(labels):\n",
        "  one_hot_labels[i][l] = 1\n",
        "labels = one_hot_labels\n",
        "\n",
        "test_images = x_test.reshape(len(x_test), 28 * 28) / 255\n",
        "test_labels = np.zeros((len(y_test), 10))\n",
        "for i, l in enumerate(y_test):\n",
        "  test_labels[i][l] = 1\n",
        "\n",
        "def tanh(x):\n",
        "  return np.tanh(x)\n",
        "\n",
        "def tanh2deriv(output):\n",
        "  return 1 - (output ** 2)\n",
        "\n",
        "def softmax(x):\n",
        "  temp = np.exp(x)\n",
        "  return temp / np.sum(temp, axis=1, keepdims=True)\n",
        "\n",
        "alpha, iterations, hidden_size = (2, 300, 100)\n",
        "pixels_per_image, num_labels = (784, 10)\n",
        "batch_size = 100\n",
        "\n",
        "weights_0_1 = 0.02*np.random.random((pixels_per_image, hidden_size)) - 0.01\n",
        "weights_1_2 = 0.2*np.random.random((hidden_size, num_labels)) - 0.1\n",
        "\n",
        "for j in range(iterations):\n",
        "  correct_cnt = 0\n",
        "  for i in range(int(len(images) / batch_size)):\n",
        "    batch_start, batch_end = ((i*batch_size), ((i+1) * batch_size))\n",
        "    layer_0 = images[batch_start:batch_end]\n",
        "    layer_1 = tanh(np.dot(layer_0, weights_0_1))\n",
        "    dropout_mask = np.random.randint(2, size=layer_1.shape)\n",
        "    layer_2 = softmax(np.dot(layer_1, weights_1_2))\n",
        "\n",
        "    for k in range(batch_size):\n",
        "      correct_cnt += int(np.argmax(layer_2[k:k+1]) == \\\n",
        "                         np.argmax(labels[batch_start+k:batch_start+k+1]))\n",
        "    layer_2_delta = (labels[batch_start:batch_end] - layer_2)\\\n",
        "     / (batch_size * layer_2.shape[0])\n",
        "    layer_1_delta = layer_2_delta.dot(weights_1_2.T)\\\n",
        "     * tanh2deriv(layer_1)\n",
        "    layer_1_delta *= dropout_mask\n",
        "\n",
        "    weights_1_2 += alpha * layer_1.T.dot(layer_2_delta)\n",
        "    weights_0_1 += alpha * layer_0.T.dot(layer_1_delta)\n",
        "  test_correct_cnt = 0\n",
        "\n",
        "  for i in range(len(test_images)):\n",
        "    layer_0 = test_images[i:i+1]\n",
        "    layer_1 = tanh(np.dot(layer_0, weights_0_1))\n",
        "    layer_2 = np.dot(layer_1, weights_1_2)\n",
        "    test_correct_cnt  += int(np.argmax(layer_2) == \\\n",
        "                             np.argmax(test_labels[i:i+1]))\n",
        "    \n",
        "  if (j % 10 == 0):\n",
        "    sys.stdout.write(\"\\n\" + \"I: \" + str(j) + \\\n",
        "                     \" Test-Acc: \" + str(test_correct_cnt/float(len(test_images)))+\\\n",
        "                     \" Train-Acc: \" + str(correct_cnt/float(len(images))))\n",
        "    \n",
        "\n"
      ],
      "execution_count": 6,
      "outputs": [
        {
          "output_type": "stream",
          "text": [
            "\n",
            "I: 0 Test-Acc: 0.3923 Train-Acc: 0.184\n",
            "I: 10 Test-Acc: 0.6819 Train-Acc: 0.731\n",
            "I: 20 Test-Acc: 0.7038 Train-Acc: 0.735\n",
            "I: 30 Test-Acc: 0.746 Train-Acc: 0.785\n",
            "I: 40 Test-Acc: 0.7791 Train-Acc: 0.82\n",
            "I: 50 Test-Acc: 0.8027 Train-Acc: 0.847\n",
            "I: 60 Test-Acc: 0.8145 Train-Acc: 0.859\n",
            "I: 70 Test-Acc: 0.8249 Train-Acc: 0.876\n",
            "I: 80 Test-Acc: 0.8317 Train-Acc: 0.89\n",
            "I: 90 Test-Acc: 0.8375 Train-Acc: 0.894\n",
            "I: 100 Test-Acc: 0.8424 Train-Acc: 0.896\n",
            "I: 110 Test-Acc: 0.8459 Train-Acc: 0.902\n",
            "I: 120 Test-Acc: 0.8488 Train-Acc: 0.913\n",
            "I: 130 Test-Acc: 0.8518 Train-Acc: 0.917\n",
            "I: 140 Test-Acc: 0.854 Train-Acc: 0.92\n",
            "I: 150 Test-Acc: 0.857 Train-Acc: 0.924\n",
            "I: 160 Test-Acc: 0.8597 Train-Acc: 0.927\n",
            "I: 170 Test-Acc: 0.861 Train-Acc: 0.928\n",
            "I: 180 Test-Acc: 0.8612 Train-Acc: 0.932\n",
            "I: 190 Test-Acc: 0.8628 Train-Acc: 0.934\n",
            "I: 200 Test-Acc: 0.8636 Train-Acc: 0.938\n",
            "I: 210 Test-Acc: 0.8647 Train-Acc: 0.939\n",
            "I: 220 Test-Acc: 0.8657 Train-Acc: 0.943\n",
            "I: 230 Test-Acc: 0.8657 Train-Acc: 0.944\n",
            "I: 240 Test-Acc: 0.8664 Train-Acc: 0.947\n",
            "I: 250 Test-Acc: 0.8665 Train-Acc: 0.95\n",
            "I: 260 Test-Acc: 0.8666 Train-Acc: 0.954\n",
            "I: 270 Test-Acc: 0.8672 Train-Acc: 0.957\n",
            "I: 280 Test-Acc: 0.8666 Train-Acc: 0.958\n",
            "I: 290 Test-Acc: 0.8676 Train-Acc: 0.96"
          ],
          "name": "stdout"
        }
      ]
    }
  ]
}