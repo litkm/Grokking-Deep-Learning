{
  "nbformat": 4,
  "nbformat_minor": 0,
  "metadata": {
    "colab": {
      "name": "Ch-5-p-86.ipynb",
      "provenance": [],
      "authorship_tag": "ABX9TyOQZEA+TQTwgcdgImgY3L6y",
      "include_colab_link": true
    },
    "kernelspec": {
      "name": "python3",
      "display_name": "Python 3"
    }
  },
  "cells": [
    {
      "cell_type": "markdown",
      "metadata": {
        "id": "view-in-github",
        "colab_type": "text"
      },
      "source": [
        "<a href=\"https://colab.research.google.com/github/litkm/Grokking-Deep-Learning/blob/master/Ch_5_p_86.ipynb\" target=\"_parent\"><img src=\"https://colab.research.google.com/assets/colab-badge.svg\" alt=\"Open In Colab\"/></a>"
      ]
    },
    {
      "cell_type": "code",
      "metadata": {
        "id": "_rIm-NXmunbg",
        "colab_type": "code",
        "colab": {
          "base_uri": "https://localhost:8080/",
          "height": 425
        },
        "outputId": "f558d8c2-c248-40a2-a574-9baaece46c72"
      },
      "source": [
        "#provides weighted sum of the inputs in relation to weights\n",
        "def neural_network(input, weights):\n",
        "  out = 0\n",
        "  for i in range(len(input)):\n",
        "    out += (input[i] * weights[i])\n",
        "  return out\n",
        "\n",
        "#calculates each weight_delta\n",
        "def ele_mul(scalar, vector):\n",
        "  out = [0, 0, 0]\n",
        "  for i in range(len(out)):\n",
        "    out[i] = vector[i] * scalar\n",
        "  return out\n",
        "\n",
        "toes = [8.5, 9.5, 9.9, 9]\n",
        "wlrec = [0.65, 0.8, 0.8, 0.9]\n",
        "nfans = [1.2, 1.3, 0.5, 1.0]\n",
        "\n",
        "win_or_lose_binary = [1, 1, 0, 1]\n",
        "true = win_or_lose_binary[0]\n",
        "\n",
        "alpha = 0.01\n",
        "weights = [0.1, 0.2, -.1]\n",
        "input = [toes[0], wlrec[0], nfans[0]]\n",
        "\n",
        "for iter in range(3):\n",
        "  \n",
        "  pred = neural_network(input, weights)\n",
        "\n",
        "  error = (pred - true) ** 2\n",
        "  delta = pred - true\n",
        "\n",
        "  weight_deltas = ele_mul(delta, input)\n",
        "\n",
        "  print(\"Iteration: \" + str(iter+1))\n",
        "  print(\"Pred: \" + str(pred))\n",
        "  print(\"Error: \" + str(error))\n",
        "  print(\"Delta: \" + str(delta))\n",
        "  print(\"Weights: \" + str(weights))\n",
        "  print(\"Weight_Deltas:\")\n",
        "  print(str(weight_deltas))\n",
        "  print(\n",
        "      \n",
        "  )\n",
        "  #Updates weights based on weight_deltas\n",
        "  for i in range(len(weights)):\n",
        "    weights[i] -= alpha * weight_deltas[i]"
      ],
      "execution_count": 3,
      "outputs": [
        {
          "output_type": "stream",
          "text": [
            "Iteration: 1\n",
            "Pred: 0.8600000000000001\n",
            "Error: 0.01959999999999997\n",
            "Delta: -0.1399999999999999\n",
            "Weights: [0.1, 0.2, -0.1]\n",
            "Weight_Deltas:\n",
            "[-1.189999999999999, -0.09099999999999994, -0.16799999999999987]\n",
            "\n",
            "Iteration: 2\n",
            "Pred: 0.9637574999999999\n",
            "Error: 0.0013135188062500048\n",
            "Delta: -0.036242500000000066\n",
            "Weights: [0.1119, 0.20091, -0.09832]\n",
            "Weight_Deltas:\n",
            "[-0.30806125000000056, -0.023557625000000044, -0.04349100000000008]\n",
            "\n",
            "Iteration: 3\n",
            "Pred: 0.9906177228125002\n",
            "Error: 8.802712522307997e-05\n",
            "Delta: -0.009382277187499843\n",
            "Weights: [0.11498061250000001, 0.20114557625, -0.09788509000000001]\n",
            "Weight_Deltas:\n",
            "[-0.07974935609374867, -0.006098480171874899, -0.011258732624999811]\n",
            "\n"
          ],
          "name": "stdout"
        }
      ]
    }
  ]
}